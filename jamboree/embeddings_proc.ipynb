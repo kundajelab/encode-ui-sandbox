{
 "cells": [
  {
   "cell_type": "code",
   "execution_count": 5,
   "metadata": {},
   "outputs": [],
   "source": [
    "import numpy as np, pandas as pd, time, os, subprocess, scipy as sp, re\n",
    "import seaborn; seaborn.set_style('whitegrid')\n",
    "import itertools\n",
    "import matplotlib.pyplot as plt, importlib\n",
    "import scipy.sparse\n",
    "import diffmap as dm#, scanpy as sc\n",
    "importlib.reload(dm)\n",
    "\n",
    "data_pfx = '/Users/akshay/github/'\n",
    "data_df_path = data_pfx + 'hodos/alignment/data/'"
   ]
  },
  {
   "cell_type": "markdown",
   "metadata": {},
   "source": [
    "# Read avocado embeddings"
   ]
  },
  {
   "cell_type": "code",
   "execution_count": 6,
   "metadata": {},
   "outputs": [],
   "source": [
    "import numpy\n",
    "from tqdm import tqdm\n",
    "\n",
    "def load_datasets(data_set, data_dir):\n",
    "    data = []\n",
    "    for celltype, assay in tqdm(data_set):\n",
    "        if 'minus' in assay:\n",
    "            continue\n",
    "        filename = \"{}/{}.{}.pilot.{}npz\".format(data_dir, celltype, assay, 'arcsinh.' if 'ENCODE' in data_dir else '')\n",
    "        track = numpy.load(filename)['arr_0'][:600000]\n",
    "        if 'plus' in assay:\n",
    "            filename = filename.replace(\"plus\", \"minus\")\n",
    "            track += numpy.load(filename)['arr_0'][:600000]\n",
    "        data.append(track)\n",
    "    return numpy.array(data)\n",
    "\n",
    "\n",
    "experiments = numpy.loadtxt(\"data/ENCODE_Tracks.txt\", delimiter='\\t', dtype=str)\n",
    "celltypes = list(numpy.unique(experiments[:,0]))\n",
    "assays = list(numpy.unique(experiments[:,1]))\n",
    "\n",
    "# real_data = load_datasets(experiments, '/net/noble/vol5/user/jmschr/proj/ENCODE/')\n",
    "# imputed_data = data = load_datasets(experiments, '/tmp/jmschr/')\n",
    "\n",
    "# real_corr = numpy.corrcoef(real_data).astype('float32')\n",
    "# imputed_corr = numpy.corrcoef(imputed_data).astype('float32')\n",
    "\n",
    "# numpy.savez_compressed(\"real_correlations_3150_600000.npz\", real_corr)\n",
    "# numpy.savez_compressed(\"imputed_correlations_3150_600000.npz\", imputed_corr)"
   ]
  },
  {
   "cell_type": "code",
   "execution_count": 7,
   "metadata": {},
   "outputs": [
    {
     "data": {
      "text/plain": [
       "array([['J000', 'ChIP-seq_H3K79me2_signal_p-value'],\n",
       "       ['J002', 'CAGE_plus_strand_signal_of_all_reads'],\n",
       "       ['J006', 'polyA_RNA-seq_minus_strand_signal_of_all_reads'],\n",
       "       ...,\n",
       "       ['J221', 'ChIP-seq_H3K9me3_signal_p-value'],\n",
       "       ['J382', 'polyA_RNA-seq_plus_strand_signal_of_all_reads'],\n",
       "       ['J223', 'ChIP-seq_H3K9me3_signal_p-value']], dtype='<U55')"
      ]
     },
     "execution_count": 7,
     "metadata": {},
     "output_type": "execute_result"
    }
   ],
   "source": [
    "experiments"
   ]
  }
 ],
 "metadata": {
  "kernelspec": {
   "display_name": "Python 3",
   "language": "python",
   "name": "python3"
  },
  "language_info": {
   "codemirror_mode": {
    "name": "ipython",
    "version": 3
   },
   "file_extension": ".py",
   "mimetype": "text/x-python",
   "name": "python",
   "nbconvert_exporter": "python",
   "pygments_lexer": "ipython3",
   "version": "3.7.3"
  }
 },
 "nbformat": 4,
 "nbformat_minor": 4
}
