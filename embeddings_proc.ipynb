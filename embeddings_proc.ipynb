{
 "cells": [
  {
   "cell_type": "code",
   "execution_count": 1,
   "metadata": {},
   "outputs": [],
   "source": [
    "import numpy as np, pandas as pd, time, os, itertools, subprocess, scipy as sp, re\n",
    "import seaborn; seaborn.set_style('whitegrid')\n",
    "import matplotlib.pyplot as plt, importlib\n",
    "import scipy.sparse\n",
    "import utils, diffmap as dm#, scanpy as sc\n",
    "import sklearn.metrics\n",
    "\n",
    "data_pfx = '/oak/stanford/groups/akundaje/abalsubr/search_ui/'"
   ]
  },
  {
   "cell_type": "code",
   "execution_count": 5,
   "metadata": {},
   "outputs": [
    {
     "data": {
      "text/plain": [
       "<module 'utils' from '/users/abalsubr/encode-ui-sandbox/utils.py'>"
      ]
     },
     "execution_count": 5,
     "metadata": {},
     "output_type": "execute_result"
    }
   ],
   "source": [
    "importlib.reload(utils)\n"
   ]
  },
  {
   "cell_type": "markdown",
   "metadata": {},
   "source": [
    "# Experimental embeddings"
   ]
  },
  {
   "cell_type": "code",
   "execution_count": 6,
   "metadata": {},
   "outputs": [
    {
     "name": "stdout",
     "output_type": "stream",
     "text": [
      "0.1419386863708496\n",
      "5.411322832107544\n"
     ]
    }
   ],
   "source": [
    "itime = time.time()\n",
    "eemb = np.load(data_pfx + 'avocado_model/experiment_embedding.npz')['arr_0']\n",
    "print(time.time() - itime)\n",
    "sparse_adj = utils.make_nn_graph(eemb, k=10)\n",
    "print(time.time() - itime)"
   ]
  },
  {
   "cell_type": "code",
   "execution_count": 9,
   "metadata": {},
   "outputs": [
    {
     "data": {
      "image/png": "[encoded data removed]",
      "text/plain": [
       "<Figure size 432x288 with 1 Axes>"
      ]
     },
     "metadata": {
      "needs_background": "light"
     },
     "output_type": "display_data"
    }
   ],
   "source": [
    "#scipy.sparse.save_npz(data_pfx + 'encode3_6870_10nn.npz', sparse_adj)\n",
    "plt.hist(np.ravel(sparse_adj.sum(axis=0)), bins=50, range=(0,80))\n",
    "plt.show()"
   ]
  },
  {
   "cell_type": "markdown",
   "metadata": {},
   "source": [
    "# Read avocado embeddings"
   ]
  },
  {
   "cell_type": "code",
   "execution_count": 6,
   "metadata": {},
   "outputs": [],
   "source": [
    "import numpy\n",
    "from tqdm import tqdm\n",
    "\n",
    "experiments = numpy.loadtxt(\"data/ENCODE_Tracks.txt\", delimiter='\\t', dtype=str)\n",
    "celltypes = list(numpy.unique(experiments[:,0]))\n",
    "assays = list(numpy.unique(experiments[:,1]))\n",
    "\n",
    "# real_data = load_datasets(experiments, '/net/noble/vol5/user/jmschr/proj/ENCODE/')\n",
    "# imputed_data = data = load_datasets(experiments, '/tmp/jmschr/')\n",
    "\n",
    "# real_corr = numpy.corrcoef(real_data).astype('float32')\n",
    "# imputed_corr = numpy.corrcoef(imputed_data).astype('float32')\n",
    "\n",
    "# numpy.savez_compressed(\"real_correlations_3150_600000.npz\", real_corr)\n",
    "# numpy.savez_compressed(\"imputed_correlations_3150_600000.npz\", imputed_corr)"
   ]
  },
  {
   "cell_type": "code",
   "execution_count": 7,
   "metadata": {},
   "outputs": [
    {
     "data": {
      "text/plain": [
       "array([['J000', 'ChIP-seq_H3K79me2_signal_p-value'],\n",
       "       ['J002', 'CAGE_plus_strand_signal_of_all_reads'],\n",
       "       ['J006', 'polyA_RNA-seq_minus_strand_signal_of_all_reads'],\n",
       "       ...,\n",
       "       ['J221', 'ChIP-seq_H3K9me3_signal_p-value'],\n",
       "       ['J382', 'polyA_RNA-seq_plus_strand_signal_of_all_reads'],\n",
       "       ['J223', 'ChIP-seq_H3K9me3_signal_p-value']], dtype='<U55')"
      ]
     },
     "execution_count": 7,
     "metadata": {},
     "output_type": "execute_result"
    }
   ],
   "source": [
    "experiments"
   ]
  }
 ],
 "metadata": {
  "kernelspec": {
   "display_name": "Python 3",
   "language": "python",
   "name": "python3"
  },
  "language_info": {
   "codemirror_mode": {
    "name": "ipython",
    "version": 3
   },
   "file_extension": ".py",
   "mimetype": "text/x-python",
   "name": "python",
   "nbconvert_exporter": "python",
   "pygments_lexer": "ipython3",
   "version": "3.6.7"
  }
 },
 "nbformat": 4,
 "nbformat_minor": 4
}
