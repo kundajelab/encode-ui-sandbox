{
 "cells": [
  {
   "cell_type": "code",
   "execution_count": 1,
   "metadata": {},
   "outputs": [],
   "source": [
    "import numpy as np, pandas as pd, time, os, itertools, subprocess, scipy as sp, re\n",
    "import seaborn; seaborn.set_style('whitegrid')\n",
    "import matplotlib.pyplot as plt, importlib\n",
    "import scipy.sparse\n",
    "import utils, diffmap as dm#, scanpy as sc\n",
    "import sklearn.metrics\n",
    "\n",
    "data_pfx = '/oak/stanford/groups/akundaje/abalsubr/search_ui/'"
   ]
  },
  {
   "cell_type": "code",
   "execution_count": 38,
   "metadata": {},
   "outputs": [
    {
     "name": "stderr",
     "output_type": "stream",
     "text": [
      "/users/abalsubr/anaconda2/envs/scs3/lib/python3.6/site-packages/ipykernel_launcher.py:2: FutureWarning: from_csv is deprecated. Please use read_csv(...) instead. Note that some of the default arguments are different, so please refer to the documentation for from_csv when changing your function calls\n",
      "  \n",
      "/users/abalsubr/anaconda2/envs/scs3/lib/python3.6/site-packages/ipykernel_launcher.py:3: FutureWarning: from_csv is deprecated. Please use read_csv(...) instead. Note that some of the default arguments are different, so please refer to the documentation for from_csv when changing your function calls\n",
      "  This is separate from the ipykernel package so we can avoid doing imports until\n"
     ]
    }
   ],
   "source": [
    "importlib.reload(utils)\n",
    "experiments_core = pd.DataFrame.from_csv(\"data/ENCODE2018Core.tsv\", index_col=None, sep='\\t')\n",
    "experiments_sparse = pd.DataFrame.from_csv(\"data/ENCODE2018Sparse.tsv\", index_col=None, sep='\\t')\n",
    "experiments_sparse = experiments_sparse.rename(columns={\"Accession_x\": \"Accession\"})\n",
    "experiments = pd.concat((experiments_core, experiments_sparse))"
   ]
  },
  {
   "cell_type": "markdown",
   "metadata": {},
   "source": [
    "# Experimental embeddings"
   ]
  },
  {
   "cell_type": "code",
   "execution_count": 6,
   "metadata": {},
   "outputs": [
    {
     "name": "stdout",
     "output_type": "stream",
     "text": [
      "0.1419386863708496\n",
      "5.411322832107544\n"
     ]
    }
   ],
   "source": [
    "itime = time.time()\n",
    "eemb = np.load(data_pfx + 'avocado_model/experiment_embedding.npz')['arr_0']\n",
    "print(time.time() - itime)\n",
    "sparse_adj = utils.make_nn_graph(eemb, k=10)\n",
    "print(time.time() - itime)"
   ]
  },
  {
   "cell_type": "code",
   "execution_count": 9,
   "metadata": {},
   "outputs": [
    {
     "data": {
      "image/png": "[encoded data removed]",
      "text/plain": [
       "<Figure size 432x288 with 1 Axes>"
      ]
     },
     "metadata": {
      "needs_background": "light"
     },
     "output_type": "display_data"
    }
   ],
   "source": [
    "#scipy.sparse.save_npz(data_pfx + 'encode3_6870_10nn.npz', sparse_adj)\n",
    "plt.hist(np.ravel(sparse_adj.sum(axis=0)), bins=50, range=(0,80))\n",
    "plt.show()"
   ]
  },
  {
   "cell_type": "code",
   "execution_count": 45,
   "metadata": {},
   "outputs": [
    {
     "name": "stderr",
     "output_type": "stream",
     "text": [
      "/users/abalsubr/anaconda2/envs/scs3/lib/python3.6/site-packages/numba/compiler.py:588: NumbaPerformanceWarning: \n",
      "The keyword argument 'parallel=True' was specified but no transformation for parallel execution was possible.\n",
      "\n",
      "To find out why, try turning on parallel diagnostics, see http://numba.pydata.org/numba-doc/latest/user/parallel.html#diagnostics for help.\n",
      "\n",
      "File \"../anaconda2/envs/scs3/lib/python3.6/site-packages/umap/nndescent.py\", line 47:\n",
      "    @numba.njit(parallel=True)\n",
      "    def nn_descent(\n",
      "    ^\n",
      "\n",
      "  self.func_ir.loc))\n"
     ]
    },
    {
     "name": "stdout",
     "output_type": "stream",
     "text": [
      "66.47995853424072\n"
     ]
    }
   ],
   "source": [
    "from umap import UMAP\n",
    "itime = time.time()\n",
    "X_umap = UMAP(200, random_state=111).fit_transform(eemb)\n",
    "print(time.time() - itime)"
   ]
  },
  {
   "cell_type": "code",
   "execution_count": 49,
   "metadata": {},
   "outputs": [],
   "source": [
    "experiments['umap_raw_X'] = X_umap[:,0]\n",
    "experiments['umap_raw_Y'] = X_umap[:,1]"
   ]
  },
  {
   "cell_type": "code",
   "execution_count": 52,
   "metadata": {},
   "outputs": [
    {
     "name": "stdout",
     "output_type": "stream",
     "text": [
      "101 dimensions contain about 0.95 fraction of the variance in the first 2000 dimensions (Diffusion time = 19.126298161980007)\n",
      "310.04082918167114\n"
     ]
    }
   ],
   "source": [
    "itime = time.time()\n",
    "X_diffmap_100 = dm.diffmap_proj(sparse_adj, n_dims=100)\n",
    "print(time.time() - itime)"
   ]
  },
  {
   "cell_type": "code",
   "execution_count": 53,
   "metadata": {},
   "outputs": [
    {
     "name": "stderr",
     "output_type": "stream",
     "text": [
      "/users/abalsubr/anaconda2/envs/scs3/lib/python3.6/site-packages/numba/compiler.py:588: NumbaPerformanceWarning: \n",
      "The keyword argument 'parallel=True' was specified but no transformation for parallel execution was possible.\n",
      "\n",
      "To find out why, try turning on parallel diagnostics, see http://numba.pydata.org/numba-doc/latest/user/parallel.html#diagnostics for help.\n",
      "\n",
      "File \"../anaconda2/envs/scs3/lib/python3.6/site-packages/umap/nndescent.py\", line 47:\n",
      "    @numba.njit(parallel=True)\n",
      "    def nn_descent(\n",
      "    ^\n",
      "\n",
      "  self.func_ir.loc))\n"
     ]
    },
    {
     "name": "stdout",
     "output_type": "stream",
     "text": [
      "54.893067359924316\n"
     ]
    }
   ],
   "source": [
    "itime = time.time()\n",
    "X_umap_2 = UMAP(200, random_state=111).fit_transform(X_diffmap_100)\n",
    "print(time.time() - itime)\n",
    "experiments['umap_graph_X'] = X_umap_2[:,0]\n",
    "experiments['umap_graph_Y'] = X_umap_2[:,1]"
   ]
  },
  {
   "cell_type": "code",
   "execution_count": 57,
   "metadata": {},
   "outputs": [],
   "source": [
    "experiments.to_csv('data/experiments.csv', sep='\\t', index=None)"
   ]
  },
  {
   "cell_type": "code",
   "execution_count": null,
   "metadata": {},
   "outputs": [],
   "source": []
  }
 ],
 "metadata": {
  "kernelspec": {
   "display_name": "Python 3",
   "language": "python",
   "name": "python3"
  },
  "language_info": {
   "codemirror_mode": {
    "name": "ipython",
    "version": 3
   },
   "file_extension": ".py",
   "mimetype": "text/x-python",
   "name": "python",
   "nbconvert_exporter": "python",
   "pygments_lexer": "ipython3",
   "version": "3.6.7"
  }
 },
 "nbformat": 4,
 "nbformat_minor": 4
}
