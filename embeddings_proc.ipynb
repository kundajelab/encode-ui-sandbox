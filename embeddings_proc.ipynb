{
 "cells": [
  {
   "cell_type": "code",
   "execution_count": 1,
   "metadata": {},
   "outputs": [],
   "source": [
    "import numpy as np, pandas as pd, time, os, itertools, subprocess, scipy as sp, re\n",
    "import seaborn; seaborn.set_style('whitegrid')\n",
    "import matplotlib.pyplot as plt, importlib\n",
    "import scipy.sparse\n",
    "import utils, diffmap as dm#, scanpy as sc\n",
    "import sklearn.metrics\n",
    "\n",
    "#data_pfx = '/oak/stanford/groups/akundaje/abalsubr/search_ui/'\n",
    "data_pfx = '/Users/akshay/github/encode-ui-sandbox/data/'"
   ]
  },
  {
   "cell_type": "code",
   "execution_count": 2,
   "metadata": {},
   "outputs": [
    {
     "name": "stderr",
     "output_type": "stream",
     "text": [
      "/Users/akshay/anaconda3/envs/encode_ui/lib/python3.7/site-packages/ipykernel_launcher.py:2: FutureWarning: from_csv is deprecated. Please use read_csv(...) instead. Note that some of the default arguments are different, so please refer to the documentation for from_csv when changing your function calls\n",
      "  \n",
      "/Users/akshay/anaconda3/envs/encode_ui/lib/python3.7/site-packages/ipykernel_launcher.py:3: FutureWarning: from_csv is deprecated. Please use read_csv(...) instead. Note that some of the default arguments are different, so please refer to the documentation for from_csv when changing your function calls\n",
      "  This is separate from the ipykernel package so we can avoid doing imports until\n"
     ]
    }
   ],
   "source": [
    "importlib.reload(utils)\n",
    "experiments_core = pd.DataFrame.from_csv(\"data/ENCODE2018Core.tsv\", index_col=None, sep='\\t')\n",
    "experiments_sparse = pd.DataFrame.from_csv(\"data/ENCODE2018Sparse.tsv\", index_col=None, sep='\\t')\n",
    "experiments_sparse = experiments_sparse.rename(columns={\"Accession_x\": \"Accession\"})\n",
    "experiments = pd.concat((experiments_core, experiments_sparse))"
   ]
  },
  {
   "cell_type": "code",
   "execution_count": 4,
   "metadata": {},
   "outputs": [
    {
     "name": "stderr",
     "output_type": "stream",
     "text": [
      "/Users/akshay/anaconda3/envs/encode_ui/lib/python3.7/site-packages/ipykernel_launcher.py:2: FutureWarning: from_csv is deprecated. Please use read_csv(...) instead. Note that some of the default arguments are different, so please refer to the documentation for from_csv when changing your function calls\n",
      "  \n",
      "/Users/akshay/anaconda3/envs/encode_ui/lib/python3.7/site-packages/ipykernel_launcher.py:3: FutureWarning: from_csv is deprecated. Please use read_csv(...) instead. Note that some of the default arguments are different, so please refer to the documentation for from_csv when changing your function calls\n",
      "  This is separate from the ipykernel package so we can avoid doing imports until\n"
     ]
    }
   ],
   "source": [
    "# Reorder experiments\n",
    "experiments_old_main = pd.DataFrame.from_csv(\"data/ENCODE_Tracks.txt\", header=None, index_col=None, sep='\\t')\n",
    "experiments_old_supp = pd.DataFrame.from_csv(\"data/ENCODE_Supp_Tracks.txt\", header=None, index_col=None, sep='\\t')\n",
    "experiments_old = pd.concat((experiments_old_main, experiments_old_supp))\n",
    "\n",
    "real_order = np.core.defchararray.add(np.array(experiments_old.iloc[:,0]).astype(str), np.array(experiments_old.iloc[:,1]).astype(str))\n",
    "new_order = np.core.defchararray.add(np.array(experiments['Biosample Index']).astype(str), np.array(experiments['Assay']).astype(str))\n",
    "rt = np.intersect1d(real_order, new_order, return_indices=True)\n",
    "real_ndx_to_new = dict(zip(rt[1], rt[2]))\n",
    "ndxarr = sorted(real_ndx_to_new.items(), key=lambda x: x[0])\n",
    "new_ndces = np.array(ndxarr)[:,1]\n",
    "new_exp = experiments.iloc[new_ndces,:]\n",
    "\n",
    "new_exp.to_csv('data/reordered_experiments.csv', sep='\\t', index=None)"
   ]
  },
  {
   "cell_type": "code",
   "execution_count": 19,
   "metadata": {},
   "outputs": [],
   "source": [
    "import app_config\n",
    "point_names = np.array(new_exp[app_config.params['display_ID_var']])#(new_exp['Experiment_name'] == 'ChIP-seq_REST_K562')[0][0]\n",
    "graph_adj = sp.sparse.load_npz(app_config.params['adj_mat_path'])"
   ]
  },
  {
   "cell_type": "code",
   "execution_count": 38,
   "metadata": {},
   "outputs": [
    {
     "name": "stdout",
     "output_type": "stream",
     "text": [
      "1\n"
     ]
    }
   ],
   "source": [
    "exp_ndx = np.where(point_names == 'CAGE_plus_strand_SK-N-SH')[0][0]\n",
    "print(exp_ndx)\n",
    "nbrs = "
   ]
  },
  {
   "cell_type": "code",
   "execution_count": 39,
   "metadata": {},
   "outputs": [
    {
     "data": {
      "text/plain": [
       "array(['CAGE_plus_strand_HepG2', 'CAGE_plus_strand_GM12878',\n",
       "       'CAGE_plus_strand_keratinocyte', 'CAGE_plus_strand_IMR-90',\n",
       "       'CAGE_plus_strand_hematopoietic multipotent progenitor cell',\n",
       "       'ChIP-seq_H3K9me3_NT2/D1', 'CAGE_plus_strand_IMR-90',\n",
       "       'CAGE_plus_strand_skeletal muscle satellite cell',\n",
       "       'ChIP-seq_H3K9me3_neurosphere', 'CAGE_plus_strand_MCF-7',\n",
       "       \"CAGE_plus_strand_mesenchymal stem cell of Wharton's jelly\",\n",
       "       'CAGE_plus_strand_B cell', 'CAGE_plus_strand_MCF-7',\n",
       "       'CAGE_plus_strand_SK-N-SH', 'CAGE_plus_strand_melanocyte of skin',\n",
       "       'CAGE_plus_strand_endothelial cell of umbilical vein',\n",
       "       'CAGE_plus_strand_GM12878', 'CAGE_plus_strand_K562',\n",
       "       'ChIP-seq_NR3C1_Ishikawa',\n",
       "       'ChIP-seq_FOS_endothelial cell of umbilical vein'], dtype=object)"
      ]
     },
     "execution_count": 39,
     "metadata": {},
     "output_type": "execute_result"
    }
   ],
   "source": [
    "nbrs"
   ]
  },
  {
   "cell_type": "markdown",
   "metadata": {},
   "source": [
    "# Experimental embeddings"
   ]
  },
  {
   "cell_type": "code",
   "execution_count": 57,
   "metadata": {},
   "outputs": [
    {
     "data": {
      "image/png": "[encoded data removed]",
      "text/plain": [
       "<Figure size 432x288 with 1 Axes>"
      ]
     },
     "metadata": {},
     "output_type": "display_data"
    }
   ],
   "source": [
    "itime = time.time()\n",
    "# eemb = np.load('data/experiment_embedding.npz')['arr_0']\n",
    "# print(time.time() - itime)\n",
    "# sparse_adj = utils.make_nn_graph(eemb, k=10)\n",
    "# print(time.time() - itime)\n",
    "\n",
    "#scipy.sparse.save_npz(data_pfx + 'encode3_6870_10nn.npz', sparse_adj)\n",
    "sparse_adj = scipy.sparse.load_npz(data_pfx + 'encode3_6870_10nn.npz')\n",
    "plt.hist(np.ravel(sparse_adj.sum(axis=0)), bins=50, range=(0,80))\n",
    "plt.show()"
   ]
  },
  {
   "cell_type": "code",
   "execution_count": 45,
   "metadata": {
    "collapsed": true,
    "jupyter": {
     "outputs_hidden": true
    }
   },
   "outputs": [
    {
     "name": "stderr",
     "output_type": "stream",
     "text": [
      "/users/abalsubr/anaconda2/envs/scs3/lib/python3.6/site-packages/numba/compiler.py:588: NumbaPerformanceWarning: \n",
      "The keyword argument 'parallel=True' was specified but no transformation for parallel execution was possible.\n",
      "\n",
      "To find out why, try turning on parallel diagnostics, see http://numba.pydata.org/numba-doc/latest/user/parallel.html#diagnostics for help.\n",
      "\n",
      "File \"../anaconda2/envs/scs3/lib/python3.6/site-packages/umap/nndescent.py\", line 47:\n",
      "    @numba.njit(parallel=True)\n",
      "    def nn_descent(\n",
      "    ^\n",
      "\n",
      "  self.func_ir.loc))\n"
     ]
    },
    {
     "name": "stdout",
     "output_type": "stream",
     "text": [
      "66.47995853424072\n"
     ]
    }
   ],
   "source": [
    "from umap import UMAP\n",
    "itime = time.time()\n",
    "X_umap = UMAP(200, random_state=111).fit_transform(eemb)\n",
    "print(time.time() - itime)\n",
    "\n",
    "experiments['umap_raw_X'] = X_umap[:,0]\n",
    "experiments['umap_raw_Y'] = X_umap[:,1]"
   ]
  },
  {
   "cell_type": "code",
   "execution_count": 52,
   "metadata": {},
   "outputs": [
    {
     "name": "stdout",
     "output_type": "stream",
     "text": [
      "101 dimensions contain about 0.95 fraction of the variance in the first 2000 dimensions (Diffusion time = 19.126298161980007)\n",
      "310.04082918167114\n"
     ]
    }
   ],
   "source": [
    "itime = time.time()\n",
    "X_diffmap_100 = dm.diffmap_proj(sparse_adj, n_dims=100)\n",
    "print(time.time() - itime)"
   ]
  },
  {
   "cell_type": "code",
   "execution_count": 53,
   "metadata": {
    "collapsed": true,
    "jupyter": {
     "outputs_hidden": true
    }
   },
   "outputs": [
    {
     "name": "stderr",
     "output_type": "stream",
     "text": [
      "/users/abalsubr/anaconda2/envs/scs3/lib/python3.6/site-packages/numba/compiler.py:588: NumbaPerformanceWarning: \n",
      "The keyword argument 'parallel=True' was specified but no transformation for parallel execution was possible.\n",
      "\n",
      "To find out why, try turning on parallel diagnostics, see http://numba.pydata.org/numba-doc/latest/user/parallel.html#diagnostics for help.\n",
      "\n",
      "File \"../anaconda2/envs/scs3/lib/python3.6/site-packages/umap/nndescent.py\", line 47:\n",
      "    @numba.njit(parallel=True)\n",
      "    def nn_descent(\n",
      "    ^\n",
      "\n",
      "  self.func_ir.loc))\n"
     ]
    },
    {
     "name": "stdout",
     "output_type": "stream",
     "text": [
      "54.893067359924316\n"
     ]
    }
   ],
   "source": [
    "itime = time.time()\n",
    "X_umap_2 = UMAP(200, random_state=111).fit_transform(X_diffmap_100)\n",
    "print(time.time() - itime)\n",
    "experiments['umap_graph_X'] = X_umap_2[:,0]\n",
    "experiments['umap_graph_Y'] = X_umap_2[:,1]"
   ]
  },
  {
   "cell_type": "code",
   "execution_count": 3,
   "metadata": {},
   "outputs": [
    {
     "name": "stderr",
     "output_type": "stream",
     "text": [
      "/Users/akshay/anaconda3/envs/encode_ui/lib/python3.7/site-packages/ipykernel_launcher.py:2: FutureWarning: from_csv is deprecated. Please use read_csv(...) instead. Note that some of the default arguments are different, so please refer to the documentation for from_csv when changing your function calls\n",
      "  \n"
     ]
    }
   ],
   "source": [
    "#experiments.to_csv('data/experiments.csv', sep='\\t', index=None)\n",
    "experiments = pd.DataFrame.from_csv(\"data/experiments.csv\", index_col=None, sep='\\t')"
   ]
  },
  {
   "cell_type": "code",
   "execution_count": 5,
   "metadata": {},
   "outputs": [],
   "source": [
    "assaynames = [x.split('_signal')[0] for x in experiments['Assay'] if '_signal'  in x]\n",
    "newnames = []\n",
    "for i in range(len(assaynames)):\n",
    "    a = assaynames[i]\n",
    "    newnames.append(\"{}_{}\".format(a, experiments['Biosample'][i]))\n",
    "experiments['Experiment_name'] = newnames"
   ]
  },
  {
   "cell_type": "code",
   "execution_count": 18,
   "metadata": {},
   "outputs": [],
   "source": [
    "plot_data_df = experiments\n",
    "assay_names = [x.split('_signal')[0] for x in plot_data_df['Assay'] if '_signal'  in x]\n",
    "cell_types = np.array(plot_data_df['Biosample'])"
   ]
  },
  {
   "cell_type": "code",
   "execution_count": 8,
   "metadata": {},
   "outputs": [],
   "source": [
    "assaynames2 = [x.split('_signal')[1] for x in experiments['Assay'] if '_signal'  in x]"
   ]
  },
  {
   "cell_type": "code",
   "execution_count": 25,
   "metadata": {},
   "outputs": [
    {
     "data": {
      "text/plain": [
       "(array(['', '_of_all_reads', '_p-value'], dtype='<U13'),\n",
       " array([ 622, 2610, 3638]))"
      ]
     },
     "execution_count": 25,
     "metadata": {},
     "output_type": "execute_result"
    }
   ],
   "source": [
    "np.unique(assaynames2, return_counts=True)"
   ]
  }
 ],
 "metadata": {
  "kernelspec": {
   "display_name": "Python 3",
   "language": "python",
   "name": "python3"
  },
  "language_info": {
   "codemirror_mode": {
    "name": "ipython",
    "version": 3
   },
   "file_extension": ".py",
   "mimetype": "text/x-python",
   "name": "python",
   "nbconvert_exporter": "python",
   "pygments_lexer": "ipython3",
   "version": "3.7.3"
  }
 },
 "nbformat": 4,
 "nbformat_minor": 4
}
